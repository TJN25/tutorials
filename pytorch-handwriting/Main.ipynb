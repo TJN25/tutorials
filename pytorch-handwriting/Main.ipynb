{
 "cells": [
  {
   "cell_type": "code",
   "execution_count": 1,
   "id": "ec47b06c-721b-448b-8830-1141ea73a1d1",
   "metadata": {},
   "outputs": [],
   "source": [
    "from torchvision import datasets\n",
    "from torchvision.transforms import ToTensor"
   ]
  },
  {
   "cell_type": "code",
   "execution_count": 2,
   "id": "d93034d9-9e86-4c66-9d58-4ee4aa1143fa",
   "metadata": {},
   "outputs": [],
   "source": [
    "train_data = datasets.MNIST(\n",
    "    root='data', \n",
    "    train= True,\n",
    "    transform = ToTensor(),\n",
    "    download = True\n",
    ")\n",
    "test_data = datasets.MNIST(\n",
    "    root='data', \n",
    "    train= False,\n",
    "    transform = ToTensor(),\n",
    "    download = True\n",
    ")"
   ]
  },
  {
   "cell_type": "code",
   "execution_count": 3,
   "id": "5a9a71a1-919f-45ea-807e-ee9f1285e6d5",
   "metadata": {},
   "outputs": [
    {
     "data": {
      "text/plain": [
       "Dataset MNIST\n",
       "    Number of datapoints: 60000\n",
       "    Root location: data\n",
       "    Split: Train\n",
       "    StandardTransform\n",
       "Transform: ToTensor()"
      ]
     },
     "execution_count": 3,
     "metadata": {},
     "output_type": "execute_result"
    }
   ],
   "source": [
    "train_data"
   ]
  },
  {
   "cell_type": "code",
   "execution_count": 4,
   "id": "2a63183b-a65e-4007-93f1-0826cf4d197c",
   "metadata": {},
   "outputs": [
    {
     "data": {
      "text/plain": [
       "Dataset MNIST\n",
       "    Number of datapoints: 10000\n",
       "    Root location: data\n",
       "    Split: Test\n",
       "    StandardTransform\n",
       "Transform: ToTensor()"
      ]
     },
     "execution_count": 4,
     "metadata": {},
     "output_type": "execute_result"
    }
   ],
   "source": [
    "test_data"
   ]
  },
  {
   "cell_type": "code",
   "execution_count": 5,
   "id": "ea9a1707-77c3-47c4-9ede-092231976be3",
   "metadata": {
    "scrolled": true
   },
   "outputs": [
    {
     "data": {
      "text/plain": [
       "tensor([[[0, 0, 0,  ..., 0, 0, 0],\n",
       "         [0, 0, 0,  ..., 0, 0, 0],\n",
       "         [0, 0, 0,  ..., 0, 0, 0],\n",
       "         ...,\n",
       "         [0, 0, 0,  ..., 0, 0, 0],\n",
       "         [0, 0, 0,  ..., 0, 0, 0],\n",
       "         [0, 0, 0,  ..., 0, 0, 0]],\n",
       "\n",
       "        [[0, 0, 0,  ..., 0, 0, 0],\n",
       "         [0, 0, 0,  ..., 0, 0, 0],\n",
       "         [0, 0, 0,  ..., 0, 0, 0],\n",
       "         ...,\n",
       "         [0, 0, 0,  ..., 0, 0, 0],\n",
       "         [0, 0, 0,  ..., 0, 0, 0],\n",
       "         [0, 0, 0,  ..., 0, 0, 0]],\n",
       "\n",
       "        [[0, 0, 0,  ..., 0, 0, 0],\n",
       "         [0, 0, 0,  ..., 0, 0, 0],\n",
       "         [0, 0, 0,  ..., 0, 0, 0],\n",
       "         ...,\n",
       "         [0, 0, 0,  ..., 0, 0, 0],\n",
       "         [0, 0, 0,  ..., 0, 0, 0],\n",
       "         [0, 0, 0,  ..., 0, 0, 0]],\n",
       "\n",
       "        ...,\n",
       "\n",
       "        [[0, 0, 0,  ..., 0, 0, 0],\n",
       "         [0, 0, 0,  ..., 0, 0, 0],\n",
       "         [0, 0, 0,  ..., 0, 0, 0],\n",
       "         ...,\n",
       "         [0, 0, 0,  ..., 0, 0, 0],\n",
       "         [0, 0, 0,  ..., 0, 0, 0],\n",
       "         [0, 0, 0,  ..., 0, 0, 0]],\n",
       "\n",
       "        [[0, 0, 0,  ..., 0, 0, 0],\n",
       "         [0, 0, 0,  ..., 0, 0, 0],\n",
       "         [0, 0, 0,  ..., 0, 0, 0],\n",
       "         ...,\n",
       "         [0, 0, 0,  ..., 0, 0, 0],\n",
       "         [0, 0, 0,  ..., 0, 0, 0],\n",
       "         [0, 0, 0,  ..., 0, 0, 0]],\n",
       "\n",
       "        [[0, 0, 0,  ..., 0, 0, 0],\n",
       "         [0, 0, 0,  ..., 0, 0, 0],\n",
       "         [0, 0, 0,  ..., 0, 0, 0],\n",
       "         ...,\n",
       "         [0, 0, 0,  ..., 0, 0, 0],\n",
       "         [0, 0, 0,  ..., 0, 0, 0],\n",
       "         [0, 0, 0,  ..., 0, 0, 0]]], dtype=torch.uint8)"
      ]
     },
     "execution_count": 5,
     "metadata": {},
     "output_type": "execute_result"
    }
   ],
   "source": [
    "train_data.data"
   ]
  },
  {
   "cell_type": "code",
   "execution_count": 6,
   "id": "88209821-32bc-4e96-aa24-8a80ed860c81",
   "metadata": {},
   "outputs": [
    {
     "data": {
      "text/plain": [
       "torch.Size([60000, 28, 28])"
      ]
     },
     "execution_count": 6,
     "metadata": {},
     "output_type": "execute_result"
    }
   ],
   "source": [
    "train_data.data.shape"
   ]
  },
  {
   "cell_type": "code",
   "execution_count": 7,
   "id": "dabdbf89-f2d5-4357-9b96-544ecdfa7eb3",
   "metadata": {},
   "outputs": [
    {
     "data": {
      "text/plain": [
       "torch.Size([60000, 28, 28])"
      ]
     },
     "execution_count": 7,
     "metadata": {},
     "output_type": "execute_result"
    }
   ],
   "source": [
    "train_data.data.size()"
   ]
  },
  {
   "cell_type": "code",
   "execution_count": 8,
   "id": "753aeb2f-a135-4400-b262-090e4968ff62",
   "metadata": {},
   "outputs": [
    {
     "data": {
      "text/plain": [
       "torch.Size([60000])"
      ]
     },
     "execution_count": 8,
     "metadata": {},
     "output_type": "execute_result"
    }
   ],
   "source": [
    "train_data.targets.size()"
   ]
  },
  {
   "cell_type": "code",
   "execution_count": 9,
   "id": "499046d1-d9d0-4b1e-9ec5-02172d32af38",
   "metadata": {},
   "outputs": [
    {
     "data": {
      "text/plain": [
       "tensor([5, 0, 4,  ..., 5, 6, 8])"
      ]
     },
     "execution_count": 9,
     "metadata": {},
     "output_type": "execute_result"
    }
   ],
   "source": [
    "train_data.targets"
   ]
  },
  {
   "cell_type": "code",
   "execution_count": 10,
   "id": "91068f08-1bd5-4a9d-a47b-ced3f3533c0b",
   "metadata": {},
   "outputs": [],
   "source": [
    "from torch.utils.data import DataLoader\n",
    "\n",
    "loaders = {\n",
    "    'train': DataLoader(train_data,\n",
    "                        batch_size=100,\n",
    "                        shuffle=True,\n",
    "                        num_workers=1),\n",
    "    'test': DataLoader(test_data,\n",
    "                        batch_size=100,\n",
    "                        shuffle=True,\n",
    "                        num_workers=1)    \n",
    "}"
   ]
  },
  {
   "cell_type": "code",
   "execution_count": 11,
   "id": "f8b2f8d1-fe16-439e-9767-11fe37a7d466",
   "metadata": {},
   "outputs": [
    {
     "data": {
      "text/plain": [
       "{'train': <torch.utils.data.dataloader.DataLoader at 0x12f795510>,\n",
       " 'test': <torch.utils.data.dataloader.DataLoader at 0x12f4b5f90>}"
      ]
     },
     "execution_count": 11,
     "metadata": {},
     "output_type": "execute_result"
    }
   ],
   "source": [
    "loaders"
   ]
  },
  {
   "cell_type": "code",
   "execution_count": 28,
   "id": "f9933068-eaa4-4cfb-84da-45a232cb71dc",
   "metadata": {},
   "outputs": [],
   "source": [
    "import torch.nn as nn\n",
    "import torch.nn.functional as F\n",
    "import torch.optim as optim\n",
    "\n",
    "class CNN(nn.Module):\n",
    "    \n",
    "    def __init__(self):\n",
    "        super(CNN, self).__init__()\n",
    "        \n",
    "        self.conv1 = nn.Conv2d(1, 10, kernel_size=5)\n",
    "        self.conv2 = nn.Conv2d(10, 20, kernel_size=5)\n",
    "        self.conv2_drop = nn.Dropout2d()\n",
    "        self.fc1 = nn.Linear(320, 50)\n",
    "        self.fc2 = nn.Linear(50, 10)\n",
    "        \n",
    "    def forward(self, x):\n",
    "        x = F.relu(F.max_pool2d(self.conv1(x), 2))\n",
    "        x = F.relu(F.max_pool2d(self.conv2_drop(self.conv2(x)), 2)) # Call the dropout layer on the second convolutional layer\n",
    "        x = x.view(-1, 320) # 20 channels for 4 * 4 through the convolutions\n",
    "        x = F.relu(self.fc1(x))\n",
    "        x = F.dropout(x, training=self.training)\n",
    "        x = self.fc2(x)\n",
    "        \n",
    "        return F.softmax(x)"
   ]
  },
  {
   "cell_type": "code",
   "execution_count": 31,
   "id": "76724fbb-a05e-406c-98b9-da7ea766e0ba",
   "metadata": {},
   "outputs": [],
   "source": [
    "import torch\n",
    "\n",
    "device = torch.device('mps' if torch.backends.mps.is_available() else 'cpu')\n",
    "model = CNN().to(device)\n",
    "optimizer = optim.Adam(model.parameters(), lr=0.001) ## lr is learning rate and tutorial says this value is not that high\n",
    "\n",
    "##Define a loss functionabs\n",
    "loss_fn = nn.CrossEntropyLoss()\n",
    "\n",
    "def train(epoch): # epich passed for loggingabs\n",
    "    model.train() # needed for things like fropout to know the mode\n",
    "    for batch_idx, (data, target) in enumerate(loaders['train']):\n",
    "        data, target = data.to(device), target.to(device)\n",
    "        optimizer.zero_grad()\n",
    "        output = model(data)\n",
    "        loss = loss_fn(output, target)\n",
    "        loss.backward()\n",
    "        optimizer.step()\n",
    "        if batch_idx % 20 == 0:            \n",
    "            print(f'Train Epoch: {epoch} [{batch_idx * len(data)}/{len(loaders[\"train\"].dataset)} ({100. * batch_idx / len(loaders[\"train\"]):.0f}%)]\\t{loss.item():.6f}')\n",
    "\n",
    "def test():\n",
    "    model.eval()\n",
    "    test_loss = 0\n",
    "    correct = 0\n",
    "    with torch.no_grad():\n",
    "        for data, target in loaders['test']:\n",
    "            data, target = data.to(device), target.to(device)\n",
    "            output = model(data)\n",
    "            test_loss += loss_fn(output, target).item()\n",
    "            pred = output.argmax(dim=1, keepdim=True)\n",
    "            correct += pred.eq(target.view_as(pred)).sum().item()\n",
    "    test_loss /= len(loaders['test'].dataset)\n",
    "    print(f'\\nTest set: Average loss: {test_loss:.4f}, Accuracy {correct}/{len(loaders[\"test\"].dataset)} ({100. * correct / len(loaders[\"test\"].dataset):.0f}%\\n)')"
   ]
  },
  {
   "cell_type": "code",
   "execution_count": 32,
   "id": "55bdb5a4-ccae-4779-9241-7c157168487f",
   "metadata": {},
   "outputs": [
    {
     "name": "stderr",
     "output_type": "stream",
     "text": [
      "/var/folders/gc/5ms21tc173j_j3xnz7sss5xnxhpl48/T/ipykernel_51274/651318756.py:24: UserWarning: Implicit dimension choice for softmax has been deprecated. Change the call to include dim=X as an argument.\n",
      "  return F.softmax(x)\n"
     ]
    },
    {
     "name": "stdout",
     "output_type": "stream",
     "text": [
      "Train Epoch: 1 [0/60000 (0%)]\t2.303979\n",
      "Train Epoch: 1 [2000/60000 (3%)]\t2.284230\n",
      "Train Epoch: 1 [4000/60000 (7%)]\t2.140950\n",
      "Train Epoch: 1 [6000/60000 (10%)]\t2.099784\n",
      "Train Epoch: 1 [8000/60000 (13%)]\t1.914353\n",
      "Train Epoch: 1 [10000/60000 (17%)]\t1.900943\n",
      "Train Epoch: 1 [12000/60000 (20%)]\t1.844054\n",
      "Train Epoch: 1 [14000/60000 (23%)]\t1.835277\n",
      "Train Epoch: 1 [16000/60000 (27%)]\t1.848164\n",
      "Train Epoch: 1 [18000/60000 (30%)]\t1.807567\n",
      "Train Epoch: 1 [20000/60000 (33%)]\t1.770641\n",
      "Train Epoch: 1 [22000/60000 (37%)]\t1.748756\n",
      "Train Epoch: 1 [24000/60000 (40%)]\t1.667798\n",
      "Train Epoch: 1 [26000/60000 (43%)]\t1.669375\n",
      "Train Epoch: 1 [28000/60000 (47%)]\t1.665317\n",
      "Train Epoch: 1 [30000/60000 (50%)]\t1.689993\n",
      "Train Epoch: 1 [32000/60000 (53%)]\t1.640042\n",
      "Train Epoch: 1 [34000/60000 (57%)]\t1.672418\n",
      "Train Epoch: 1 [36000/60000 (60%)]\t1.664459\n",
      "Train Epoch: 1 [38000/60000 (63%)]\t1.693795\n",
      "Train Epoch: 1 [40000/60000 (67%)]\t1.668735\n",
      "Train Epoch: 1 [42000/60000 (70%)]\t1.602043\n",
      "Train Epoch: 1 [44000/60000 (73%)]\t1.641680\n",
      "Train Epoch: 1 [46000/60000 (77%)]\t1.636227\n",
      "Train Epoch: 1 [48000/60000 (80%)]\t1.601844\n",
      "Train Epoch: 1 [50000/60000 (83%)]\t1.651354\n",
      "Train Epoch: 1 [52000/60000 (87%)]\t1.696441\n",
      "Train Epoch: 1 [54000/60000 (90%)]\t1.617915\n",
      "Train Epoch: 1 [56000/60000 (93%)]\t1.603778\n",
      "Train Epoch: 1 [58000/60000 (97%)]\t1.605940\n",
      "\n",
      "Test set: Average loss: 0.0154, Accuracy 9247/10000 (92%\n",
      ")\n",
      "Train Epoch: 2 [0/60000 (0%)]\t1.618881\n",
      "Train Epoch: 2 [2000/60000 (3%)]\t1.607368\n",
      "Train Epoch: 2 [4000/60000 (7%)]\t1.661535\n",
      "Train Epoch: 2 [6000/60000 (10%)]\t1.616282\n",
      "Train Epoch: 2 [8000/60000 (13%)]\t1.669204\n",
      "Train Epoch: 2 [10000/60000 (17%)]\t1.589972\n",
      "Train Epoch: 2 [12000/60000 (20%)]\t1.627927\n",
      "Train Epoch: 2 [14000/60000 (23%)]\t1.590791\n",
      "Train Epoch: 2 [16000/60000 (27%)]\t1.566962\n",
      "Train Epoch: 2 [18000/60000 (30%)]\t1.613824\n",
      "Train Epoch: 2 [20000/60000 (33%)]\t1.633685\n",
      "Train Epoch: 2 [22000/60000 (37%)]\t1.526884\n",
      "Train Epoch: 2 [24000/60000 (40%)]\t1.617608\n",
      "Train Epoch: 2 [26000/60000 (43%)]\t1.579581\n",
      "Train Epoch: 2 [28000/60000 (47%)]\t1.572252\n",
      "Train Epoch: 2 [30000/60000 (50%)]\t1.578815\n",
      "Train Epoch: 2 [32000/60000 (53%)]\t1.654513\n",
      "Train Epoch: 2 [34000/60000 (57%)]\t1.656678\n",
      "Train Epoch: 2 [36000/60000 (60%)]\t1.607369\n",
      "Train Epoch: 2 [38000/60000 (63%)]\t1.581839\n",
      "Train Epoch: 2 [40000/60000 (67%)]\t1.577623\n",
      "Train Epoch: 2 [42000/60000 (70%)]\t1.528322\n",
      "Train Epoch: 2 [44000/60000 (73%)]\t1.563354\n",
      "Train Epoch: 2 [46000/60000 (77%)]\t1.643960\n",
      "Train Epoch: 2 [48000/60000 (80%)]\t1.614964\n",
      "Train Epoch: 2 [50000/60000 (83%)]\t1.577245\n",
      "Train Epoch: 2 [52000/60000 (87%)]\t1.579093\n",
      "Train Epoch: 2 [54000/60000 (90%)]\t1.530114\n",
      "Train Epoch: 2 [56000/60000 (93%)]\t1.549531\n",
      "Train Epoch: 2 [58000/60000 (97%)]\t1.638950\n",
      "\n",
      "Test set: Average loss: 0.0152, Accuracy 9418/10000 (94%\n",
      ")\n",
      "Train Epoch: 3 [0/60000 (0%)]\t1.528563\n",
      "Train Epoch: 3 [2000/60000 (3%)]\t1.631599\n",
      "Train Epoch: 3 [4000/60000 (7%)]\t1.572762\n",
      "Train Epoch: 3 [6000/60000 (10%)]\t1.576346\n",
      "Train Epoch: 3 [8000/60000 (13%)]\t1.633940\n",
      "Train Epoch: 3 [10000/60000 (17%)]\t1.591342\n",
      "Train Epoch: 3 [12000/60000 (20%)]\t1.545654\n",
      "Train Epoch: 3 [14000/60000 (23%)]\t1.580202\n",
      "Train Epoch: 3 [16000/60000 (27%)]\t1.581047\n",
      "Train Epoch: 3 [18000/60000 (30%)]\t1.596574\n",
      "Train Epoch: 3 [20000/60000 (33%)]\t1.555677\n",
      "Train Epoch: 3 [22000/60000 (37%)]\t1.613371\n",
      "Train Epoch: 3 [24000/60000 (40%)]\t1.532455\n",
      "Train Epoch: 3 [26000/60000 (43%)]\t1.565285\n",
      "Train Epoch: 3 [28000/60000 (47%)]\t1.563487\n",
      "Train Epoch: 3 [30000/60000 (50%)]\t1.583784\n",
      "Train Epoch: 3 [32000/60000 (53%)]\t1.566976\n",
      "Train Epoch: 3 [34000/60000 (57%)]\t1.588545\n",
      "Train Epoch: 3 [36000/60000 (60%)]\t1.580218\n",
      "Train Epoch: 3 [38000/60000 (63%)]\t1.581636\n",
      "Train Epoch: 3 [40000/60000 (67%)]\t1.557272\n",
      "Train Epoch: 3 [42000/60000 (70%)]\t1.585352\n",
      "Train Epoch: 3 [44000/60000 (73%)]\t1.614543\n",
      "Train Epoch: 3 [46000/60000 (77%)]\t1.573747\n",
      "Train Epoch: 3 [48000/60000 (80%)]\t1.613669\n",
      "Train Epoch: 3 [50000/60000 (83%)]\t1.582402\n",
      "Train Epoch: 3 [52000/60000 (87%)]\t1.595331\n",
      "Train Epoch: 3 [54000/60000 (90%)]\t1.566741\n",
      "Train Epoch: 3 [56000/60000 (93%)]\t1.565332\n",
      "Train Epoch: 3 [58000/60000 (97%)]\t1.547608\n",
      "\n",
      "Test set: Average loss: 0.0151, Accuracy 9537/10000 (95%\n",
      ")\n",
      "Train Epoch: 4 [0/60000 (0%)]\t1.554737\n",
      "Train Epoch: 4 [2000/60000 (3%)]\t1.563254\n",
      "Train Epoch: 4 [4000/60000 (7%)]\t1.602433\n",
      "Train Epoch: 4 [6000/60000 (10%)]\t1.595876\n",
      "Train Epoch: 4 [8000/60000 (13%)]\t1.564032\n",
      "Train Epoch: 4 [10000/60000 (17%)]\t1.578057\n",
      "Train Epoch: 4 [12000/60000 (20%)]\t1.559921\n",
      "Train Epoch: 4 [14000/60000 (23%)]\t1.595643\n",
      "Train Epoch: 4 [16000/60000 (27%)]\t1.564053\n",
      "Train Epoch: 4 [18000/60000 (30%)]\t1.598843\n",
      "Train Epoch: 4 [20000/60000 (33%)]\t1.537918\n",
      "Train Epoch: 4 [22000/60000 (37%)]\t1.688259\n",
      "Train Epoch: 4 [24000/60000 (40%)]\t1.548565\n",
      "Train Epoch: 4 [26000/60000 (43%)]\t1.549952\n",
      "Train Epoch: 4 [28000/60000 (47%)]\t1.588621\n",
      "Train Epoch: 4 [30000/60000 (50%)]\t1.572062\n",
      "Train Epoch: 4 [32000/60000 (53%)]\t1.581517\n",
      "Train Epoch: 4 [34000/60000 (57%)]\t1.555922\n",
      "Train Epoch: 4 [36000/60000 (60%)]\t1.499562\n",
      "Train Epoch: 4 [38000/60000 (63%)]\t1.579917\n",
      "Train Epoch: 4 [40000/60000 (67%)]\t1.539353\n",
      "Train Epoch: 4 [42000/60000 (70%)]\t1.551105\n",
      "Train Epoch: 4 [44000/60000 (73%)]\t1.529554\n",
      "Train Epoch: 4 [46000/60000 (77%)]\t1.538210\n",
      "Train Epoch: 4 [48000/60000 (80%)]\t1.569369\n",
      "Train Epoch: 4 [50000/60000 (83%)]\t1.554008\n",
      "Train Epoch: 4 [52000/60000 (87%)]\t1.565763\n",
      "Train Epoch: 4 [54000/60000 (90%)]\t1.592778\n",
      "Train Epoch: 4 [56000/60000 (93%)]\t1.580656\n",
      "Train Epoch: 4 [58000/60000 (97%)]\t1.546747\n",
      "\n",
      "Test set: Average loss: 0.0150, Accuracy 9578/10000 (96%\n",
      ")\n",
      "Train Epoch: 5 [0/60000 (0%)]\t1.547871\n",
      "Train Epoch: 5 [2000/60000 (3%)]\t1.563695\n",
      "Train Epoch: 5 [4000/60000 (7%)]\t1.534814\n",
      "Train Epoch: 5 [6000/60000 (10%)]\t1.544345\n",
      "Train Epoch: 5 [8000/60000 (13%)]\t1.580287\n",
      "Train Epoch: 5 [10000/60000 (17%)]\t1.544110\n",
      "Train Epoch: 5 [12000/60000 (20%)]\t1.599836\n",
      "Train Epoch: 5 [14000/60000 (23%)]\t1.531739\n",
      "Train Epoch: 5 [16000/60000 (27%)]\t1.509568\n",
      "Train Epoch: 5 [18000/60000 (30%)]\t1.537079\n",
      "Train Epoch: 5 [20000/60000 (33%)]\t1.523944\n",
      "Train Epoch: 5 [22000/60000 (37%)]\t1.571772\n",
      "Train Epoch: 5 [24000/60000 (40%)]\t1.521559\n",
      "Train Epoch: 5 [26000/60000 (43%)]\t1.580477\n",
      "Train Epoch: 5 [28000/60000 (47%)]\t1.556596\n",
      "Train Epoch: 5 [30000/60000 (50%)]\t1.570145\n",
      "Train Epoch: 5 [32000/60000 (53%)]\t1.515247\n",
      "Train Epoch: 5 [34000/60000 (57%)]\t1.521856\n",
      "Train Epoch: 5 [36000/60000 (60%)]\t1.530638\n",
      "Train Epoch: 5 [38000/60000 (63%)]\t1.528614\n",
      "Train Epoch: 5 [40000/60000 (67%)]\t1.538082\n",
      "Train Epoch: 5 [42000/60000 (70%)]\t1.541688\n",
      "Train Epoch: 5 [44000/60000 (73%)]\t1.548443\n",
      "Train Epoch: 5 [46000/60000 (77%)]\t1.552287\n",
      "Train Epoch: 5 [48000/60000 (80%)]\t1.595204\n",
      "Train Epoch: 5 [50000/60000 (83%)]\t1.562415\n",
      "Train Epoch: 5 [52000/60000 (87%)]\t1.577954\n",
      "Train Epoch: 5 [54000/60000 (90%)]\t1.561180\n",
      "Train Epoch: 5 [56000/60000 (93%)]\t1.566884\n",
      "Train Epoch: 5 [58000/60000 (97%)]\t1.556787\n",
      "\n",
      "Test set: Average loss: 0.0150, Accuracy 9634/10000 (96%\n",
      ")\n",
      "Train Epoch: 6 [0/60000 (0%)]\t1.532305\n",
      "Train Epoch: 6 [2000/60000 (3%)]\t1.526140\n",
      "Train Epoch: 6 [4000/60000 (7%)]\t1.545445\n",
      "Train Epoch: 6 [6000/60000 (10%)]\t1.535080\n",
      "Train Epoch: 6 [8000/60000 (13%)]\t1.541390\n",
      "Train Epoch: 6 [10000/60000 (17%)]\t1.560796\n",
      "Train Epoch: 6 [12000/60000 (20%)]\t1.541583\n",
      "Train Epoch: 6 [14000/60000 (23%)]\t1.507256\n",
      "Train Epoch: 6 [16000/60000 (27%)]\t1.571028\n",
      "Train Epoch: 6 [18000/60000 (30%)]\t1.548969\n",
      "Train Epoch: 6 [20000/60000 (33%)]\t1.538169\n",
      "Train Epoch: 6 [22000/60000 (37%)]\t1.497866\n",
      "Train Epoch: 6 [24000/60000 (40%)]\t1.577783\n",
      "Train Epoch: 6 [26000/60000 (43%)]\t1.532434\n",
      "Train Epoch: 6 [28000/60000 (47%)]\t1.544189\n",
      "Train Epoch: 6 [30000/60000 (50%)]\t1.546271\n",
      "Train Epoch: 6 [32000/60000 (53%)]\t1.542328\n",
      "Train Epoch: 6 [34000/60000 (57%)]\t1.547179\n",
      "Train Epoch: 6 [36000/60000 (60%)]\t1.545535\n",
      "Train Epoch: 6 [38000/60000 (63%)]\t1.529174\n",
      "Train Epoch: 6 [40000/60000 (67%)]\t1.532428\n",
      "Train Epoch: 6 [42000/60000 (70%)]\t1.529530\n",
      "Train Epoch: 6 [44000/60000 (73%)]\t1.479784\n",
      "Train Epoch: 6 [46000/60000 (77%)]\t1.505486\n",
      "Train Epoch: 6 [48000/60000 (80%)]\t1.540643\n",
      "Train Epoch: 6 [50000/60000 (83%)]\t1.536901\n",
      "Train Epoch: 6 [52000/60000 (87%)]\t1.521378\n",
      "Train Epoch: 6 [54000/60000 (90%)]\t1.548174\n",
      "Train Epoch: 6 [56000/60000 (93%)]\t1.546546\n",
      "Train Epoch: 6 [58000/60000 (97%)]\t1.561198\n",
      "\n",
      "Test set: Average loss: 0.0150, Accuracy 9656/10000 (97%\n",
      ")\n",
      "Train Epoch: 7 [0/60000 (0%)]\t1.554139\n",
      "Train Epoch: 7 [2000/60000 (3%)]\t1.513873\n",
      "Train Epoch: 7 [4000/60000 (7%)]\t1.520353\n",
      "Train Epoch: 7 [6000/60000 (10%)]\t1.514773\n",
      "Train Epoch: 7 [8000/60000 (13%)]\t1.534674\n",
      "Train Epoch: 7 [10000/60000 (17%)]\t1.559915\n",
      "Train Epoch: 7 [12000/60000 (20%)]\t1.541944\n",
      "Train Epoch: 7 [14000/60000 (23%)]\t1.559348\n",
      "Train Epoch: 7 [16000/60000 (27%)]\t1.528998\n",
      "Train Epoch: 7 [18000/60000 (30%)]\t1.495979\n",
      "Train Epoch: 7 [20000/60000 (33%)]\t1.511606\n",
      "Train Epoch: 7 [22000/60000 (37%)]\t1.539162\n",
      "Train Epoch: 7 [24000/60000 (40%)]\t1.559973\n",
      "Train Epoch: 7 [26000/60000 (43%)]\t1.536233\n",
      "Train Epoch: 7 [28000/60000 (47%)]\t1.507260\n",
      "Train Epoch: 7 [30000/60000 (50%)]\t1.522450\n",
      "Train Epoch: 7 [32000/60000 (53%)]\t1.496822\n",
      "Train Epoch: 7 [34000/60000 (57%)]\t1.560177\n",
      "Train Epoch: 7 [36000/60000 (60%)]\t1.570081\n",
      "Train Epoch: 7 [38000/60000 (63%)]\t1.556736\n",
      "Train Epoch: 7 [40000/60000 (67%)]\t1.590972\n",
      "Train Epoch: 7 [42000/60000 (70%)]\t1.561405\n",
      "Train Epoch: 7 [44000/60000 (73%)]\t1.490694\n",
      "Train Epoch: 7 [46000/60000 (77%)]\t1.531135\n",
      "Train Epoch: 7 [48000/60000 (80%)]\t1.563432\n",
      "Train Epoch: 7 [50000/60000 (83%)]\t1.542325\n",
      "Train Epoch: 7 [52000/60000 (87%)]\t1.510072\n",
      "Train Epoch: 7 [54000/60000 (90%)]\t1.569212\n",
      "Train Epoch: 7 [56000/60000 (93%)]\t1.542045\n",
      "Train Epoch: 7 [58000/60000 (97%)]\t1.541499\n",
      "\n",
      "Test set: Average loss: 0.0149, Accuracy 9669/10000 (97%\n",
      ")\n",
      "Train Epoch: 8 [0/60000 (0%)]\t1.567780\n",
      "Train Epoch: 8 [2000/60000 (3%)]\t1.545878\n",
      "Train Epoch: 8 [4000/60000 (7%)]\t1.507698\n",
      "Train Epoch: 8 [6000/60000 (10%)]\t1.558685\n",
      "Train Epoch: 8 [8000/60000 (13%)]\t1.513535\n",
      "Train Epoch: 8 [10000/60000 (17%)]\t1.541348\n",
      "Train Epoch: 8 [12000/60000 (20%)]\t1.489248\n",
      "Train Epoch: 8 [14000/60000 (23%)]\t1.572600\n",
      "Train Epoch: 8 [16000/60000 (27%)]\t1.585150\n",
      "Train Epoch: 8 [18000/60000 (30%)]\t1.573299\n",
      "Train Epoch: 8 [20000/60000 (33%)]\t1.524326\n",
      "Train Epoch: 8 [22000/60000 (37%)]\t1.576523\n",
      "Train Epoch: 8 [24000/60000 (40%)]\t1.523797\n",
      "Train Epoch: 8 [26000/60000 (43%)]\t1.536973\n",
      "Train Epoch: 8 [28000/60000 (47%)]\t1.499039\n",
      "Train Epoch: 8 [30000/60000 (50%)]\t1.616459\n",
      "Train Epoch: 8 [32000/60000 (53%)]\t1.506739\n",
      "Train Epoch: 8 [34000/60000 (57%)]\t1.572767\n",
      "Train Epoch: 8 [36000/60000 (60%)]\t1.536013\n",
      "Train Epoch: 8 [38000/60000 (63%)]\t1.508443\n",
      "Train Epoch: 8 [40000/60000 (67%)]\t1.530233\n",
      "Train Epoch: 8 [42000/60000 (70%)]\t1.507879\n",
      "Train Epoch: 8 [44000/60000 (73%)]\t1.516397\n",
      "Train Epoch: 8 [46000/60000 (77%)]\t1.510921\n",
      "Train Epoch: 8 [48000/60000 (80%)]\t1.513739\n",
      "Train Epoch: 8 [50000/60000 (83%)]\t1.509373\n",
      "Train Epoch: 8 [52000/60000 (87%)]\t1.533980\n",
      "Train Epoch: 8 [54000/60000 (90%)]\t1.551681\n",
      "Train Epoch: 8 [56000/60000 (93%)]\t1.534876\n",
      "Train Epoch: 8 [58000/60000 (97%)]\t1.556860\n",
      "\n",
      "Test set: Average loss: 0.0149, Accuracy 9696/10000 (97%\n",
      ")\n",
      "Train Epoch: 9 [0/60000 (0%)]\t1.537365\n",
      "Train Epoch: 9 [2000/60000 (3%)]\t1.520150\n",
      "Train Epoch: 9 [4000/60000 (7%)]\t1.534673\n",
      "Train Epoch: 9 [6000/60000 (10%)]\t1.533697\n",
      "Train Epoch: 9 [8000/60000 (13%)]\t1.511977\n",
      "Train Epoch: 9 [10000/60000 (17%)]\t1.545480\n",
      "Train Epoch: 9 [12000/60000 (20%)]\t1.552023\n",
      "Train Epoch: 9 [14000/60000 (23%)]\t1.497113\n",
      "Train Epoch: 9 [16000/60000 (27%)]\t1.549356\n",
      "Train Epoch: 9 [18000/60000 (30%)]\t1.541640\n",
      "Train Epoch: 9 [20000/60000 (33%)]\t1.518140\n",
      "Train Epoch: 9 [22000/60000 (37%)]\t1.524709\n",
      "Train Epoch: 9 [24000/60000 (40%)]\t1.548882\n",
      "Train Epoch: 9 [26000/60000 (43%)]\t1.535967\n",
      "Train Epoch: 9 [28000/60000 (47%)]\t1.525563\n",
      "Train Epoch: 9 [30000/60000 (50%)]\t1.527986\n",
      "Train Epoch: 9 [32000/60000 (53%)]\t1.584982\n",
      "Train Epoch: 9 [34000/60000 (57%)]\t1.550406\n",
      "Train Epoch: 9 [36000/60000 (60%)]\t1.526332\n",
      "Train Epoch: 9 [38000/60000 (63%)]\t1.533123\n",
      "Train Epoch: 9 [40000/60000 (67%)]\t1.547409\n",
      "Train Epoch: 9 [42000/60000 (70%)]\t1.552742\n",
      "Train Epoch: 9 [44000/60000 (73%)]\t1.536622\n",
      "Train Epoch: 9 [46000/60000 (77%)]\t1.513292\n",
      "Train Epoch: 9 [48000/60000 (80%)]\t1.538481\n",
      "Train Epoch: 9 [50000/60000 (83%)]\t1.525282\n",
      "Train Epoch: 9 [52000/60000 (87%)]\t1.472127\n",
      "Train Epoch: 9 [54000/60000 (90%)]\t1.532994\n",
      "Train Epoch: 9 [56000/60000 (93%)]\t1.526900\n",
      "Train Epoch: 9 [58000/60000 (97%)]\t1.523236\n",
      "\n",
      "Test set: Average loss: 0.0149, Accuracy 9700/10000 (97%\n",
      ")\n",
      "Train Epoch: 10 [0/60000 (0%)]\t1.565353\n",
      "Train Epoch: 10 [2000/60000 (3%)]\t1.569680\n",
      "Train Epoch: 10 [4000/60000 (7%)]\t1.539374\n",
      "Train Epoch: 10 [6000/60000 (10%)]\t1.585077\n",
      "Train Epoch: 10 [8000/60000 (13%)]\t1.503083\n",
      "Train Epoch: 10 [10000/60000 (17%)]\t1.517842\n",
      "Train Epoch: 10 [12000/60000 (20%)]\t1.525681\n",
      "Train Epoch: 10 [14000/60000 (23%)]\t1.506811\n",
      "Train Epoch: 10 [16000/60000 (27%)]\t1.542289\n",
      "Train Epoch: 10 [18000/60000 (30%)]\t1.535873\n",
      "Train Epoch: 10 [20000/60000 (33%)]\t1.541757\n",
      "Train Epoch: 10 [22000/60000 (37%)]\t1.538767\n",
      "Train Epoch: 10 [24000/60000 (40%)]\t1.526121\n",
      "Train Epoch: 10 [26000/60000 (43%)]\t1.544302\n",
      "Train Epoch: 10 [28000/60000 (47%)]\t1.493288\n",
      "Train Epoch: 10 [30000/60000 (50%)]\t1.561406\n",
      "Train Epoch: 10 [32000/60000 (53%)]\t1.494654\n",
      "Train Epoch: 10 [34000/60000 (57%)]\t1.530056\n",
      "Train Epoch: 10 [36000/60000 (60%)]\t1.572703\n",
      "Train Epoch: 10 [38000/60000 (63%)]\t1.506323\n",
      "Train Epoch: 10 [40000/60000 (67%)]\t1.532494\n",
      "Train Epoch: 10 [42000/60000 (70%)]\t1.513343\n",
      "Train Epoch: 10 [44000/60000 (73%)]\t1.479694\n",
      "Train Epoch: 10 [46000/60000 (77%)]\t1.536327\n",
      "Train Epoch: 10 [48000/60000 (80%)]\t1.534193\n",
      "Train Epoch: 10 [50000/60000 (83%)]\t1.526452\n",
      "Train Epoch: 10 [52000/60000 (87%)]\t1.532982\n",
      "Train Epoch: 10 [54000/60000 (90%)]\t1.500857\n",
      "Train Epoch: 10 [56000/60000 (93%)]\t1.550727\n",
      "Train Epoch: 10 [58000/60000 (97%)]\t1.509734\n",
      "\n",
      "Test set: Average loss: 0.0149, Accuracy 9719/10000 (97%\n",
      ")\n"
     ]
    }
   ],
   "source": [
    "for epoch in range(1, 11):\n",
    "    train(epoch)\n",
    "    test()"
   ]
  },
  {
   "cell_type": "code",
   "execution_count": 33,
   "id": "f6f70cf1-10e9-406d-943a-2f7670c66511",
   "metadata": {},
   "outputs": [
    {
     "data": {
      "text/plain": [
       "device(type='mps')"
      ]
     },
     "execution_count": 33,
     "metadata": {},
     "output_type": "execute_result"
    }
   ],
   "source": [
    "device"
   ]
  },
  {
   "cell_type": "code",
   "execution_count": 37,
   "id": "fa48e451-80d5-49f4-81cf-ff898b41deea",
   "metadata": {},
   "outputs": [
    {
     "name": "stdout",
     "output_type": "stream",
     "text": [
      "Prediction: 7\n"
     ]
    },
    {
     "name": "stderr",
     "output_type": "stream",
     "text": [
      "/var/folders/gc/5ms21tc173j_j3xnz7sss5xnxhpl48/T/ipykernel_51274/651318756.py:24: UserWarning: Implicit dimension choice for softmax has been deprecated. Change the call to include dim=X as an argument.\n",
      "  return F.softmax(x)\n"
     ]
    },
    {
     "data": {
      "image/png": "[encoded data removed]",
      "text/plain": [
       "<Figure size 640x480 with 1 Axes>"
      ]
     },
     "metadata": {},
     "output_type": "display_data"
    }
   ],
   "source": [
    "import matplotlib.pyplot as plt\n",
    "\n",
    "model.eval()\n",
    "\n",
    "data, target = test_data[0]\n",
    "data = data.unsqueeze(0).to(device)\n",
    "output = model(data)\n",
    "prediction = output.argmax(dim=1, keepdim=True).item()\n",
    "\n",
    "print(f'Prediction: {prediction}')\n",
    "\n",
    "image = data.squeeze(0).squeeze(0).cpu().numpy()\n",
    "plt.imshow(image, cmap='gray')\n",
    "plt.show()\n",
    "plt.imsave('plot.png', image, cmap='gray')"
   ]
  },
  {
   "cell_type": "code",
   "execution_count": null,
   "id": "ad70fba2-8e4e-4818-95cd-4efb13765cf2",
   "metadata": {},
   "outputs": [],
   "source": []
  }
 ],
 "metadata": {
  "kernelspec": {
   "display_name": "Python 3 (ipykernel)",
   "language": "python",
   "name": "python3"
  },
  "language_info": {
   "codemirror_mode": {
    "name": "ipython",
    "version": 3
   },
   "file_extension": ".py",
   "mimetype": "text/x-python",
   "name": "python",
   "nbconvert_exporter": "python",
   "pygments_lexer": "ipython3",
   "version": "3.11.9"
  }
 },
 "nbformat": 4,
 "nbformat_minor": 5
}
